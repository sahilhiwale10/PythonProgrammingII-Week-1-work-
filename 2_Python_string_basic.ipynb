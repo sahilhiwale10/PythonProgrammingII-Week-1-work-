{
  "cells": [
    {
      "cell_type": "code",
      "execution_count": null,
      "id": "38eb4d41",
      "metadata": {
        "id": "38eb4d41"
      },
      "outputs": [],
      "source": [
        "s = \"ineuron\""
      ]
    },
    {
      "cell_type": "code",
      "execution_count": null,
      "id": "5e02c3e3",
      "metadata": {
        "id": "5e02c3e3"
      },
      "outputs": [],
      "source": [
        "type(s)"
      ]
    },
    {
      "cell_type": "code",
      "execution_count": null,
      "id": "6b963500",
      "metadata": {
        "id": "6b963500"
      },
      "outputs": [],
      "source": [
        "s[0]"
      ]
    },
    {
      "cell_type": "code",
      "execution_count": null,
      "id": "2e9a1d1f",
      "metadata": {
        "id": "2e9a1d1f"
      },
      "outputs": [],
      "source": [
        "s[5]"
      ]
    },
    {
      "cell_type": "code",
      "execution_count": null,
      "id": "74dcc648",
      "metadata": {
        "id": "74dcc648"
      },
      "outputs": [],
      "source": [
        "s[-1]"
      ]
    },
    {
      "cell_type": "code",
      "execution_count": null,
      "id": "4da1d257",
      "metadata": {
        "id": "4da1d257"
      },
      "outputs": [],
      "source": [
        "s1 = 'sudh'"
      ]
    },
    {
      "cell_type": "code",
      "execution_count": null,
      "id": "2c7e2f80",
      "metadata": {
        "id": "2c7e2f80"
      },
      "outputs": [],
      "source": [
        "s1[0]"
      ]
    },
    {
      "cell_type": "code",
      "execution_count": null,
      "id": "efb7f6c0",
      "metadata": {
        "id": "efb7f6c0"
      },
      "outputs": [],
      "source": [
        "s1[-1]"
      ]
    },
    {
      "cell_type": "code",
      "execution_count": null,
      "id": "246074da",
      "metadata": {
        "id": "246074da"
      },
      "outputs": [],
      "source": [
        "s1[-2]"
      ]
    },
    {
      "cell_type": "code",
      "execution_count": null,
      "id": "1e302549",
      "metadata": {
        "id": "1e302549"
      },
      "outputs": [],
      "source": [
        "s2 = \"this is my very first programming class's\""
      ]
    },
    {
      "cell_type": "code",
      "execution_count": null,
      "id": "73e266ed",
      "metadata": {
        "id": "73e266ed"
      },
      "outputs": [],
      "source": [
        "s2"
      ]
    },
    {
      "cell_type": "code",
      "execution_count": null,
      "id": "118b592e",
      "metadata": {
        "id": "118b592e"
      },
      "outputs": [],
      "source": [
        "s2[8]"
      ]
    },
    {
      "cell_type": "code",
      "execution_count": null,
      "id": "8a39c178",
      "metadata": {
        "id": "8a39c178"
      },
      "outputs": [],
      "source": [
        "s2"
      ]
    },
    {
      "cell_type": "code",
      "execution_count": null,
      "id": "1db9f2f9",
      "metadata": {
        "id": "1db9f2f9"
      },
      "outputs": [],
      "source": [
        "s2[1:5]"
      ]
    },
    {
      "cell_type": "code",
      "execution_count": null,
      "id": "f0e89b9d",
      "metadata": {
        "id": "f0e89b9d"
      },
      "outputs": [],
      "source": [
        "s2[6:30]"
      ]
    },
    {
      "cell_type": "code",
      "execution_count": null,
      "id": "1d35d281",
      "metadata": {
        "id": "1d35d281"
      },
      "outputs": [],
      "source": [
        "s2[6:30:2]"
      ]
    },
    {
      "cell_type": "code",
      "execution_count": null,
      "id": "017a48f1",
      "metadata": {
        "id": "017a48f1"
      },
      "outputs": [],
      "source": [
        "s= \"sudhanshu\""
      ]
    },
    {
      "cell_type": "code",
      "execution_count": null,
      "id": "7b92f73f",
      "metadata": {
        "id": "7b92f73f"
      },
      "outputs": [],
      "source": [
        "s[0:9:1]"
      ]
    },
    {
      "cell_type": "code",
      "execution_count": null,
      "id": "b6fd616b",
      "metadata": {
        "id": "b6fd616b"
      },
      "outputs": [],
      "source": [
        "s"
      ]
    },
    {
      "cell_type": "code",
      "execution_count": null,
      "id": "f28ed68e",
      "metadata": {
        "id": "f28ed68e"
      },
      "outputs": [],
      "source": [
        "s[0:8:-1]"
      ]
    },
    {
      "cell_type": "code",
      "execution_count": null,
      "id": "9d47cede",
      "metadata": {
        "id": "9d47cede"
      },
      "outputs": [],
      "source": [
        "s[8:0:-1]"
      ]
    },
    {
      "cell_type": "code",
      "execution_count": null,
      "id": "933bd2d6",
      "metadata": {
        "id": "933bd2d6"
      },
      "outputs": [],
      "source": [
        "s[8:0:-2]"
      ]
    },
    {
      "cell_type": "code",
      "execution_count": null,
      "id": "46fb9bf8",
      "metadata": {
        "id": "46fb9bf8"
      },
      "outputs": [],
      "source": [
        "s"
      ]
    },
    {
      "cell_type": "code",
      "execution_count": null,
      "id": "e0424612",
      "metadata": {
        "id": "e0424612"
      },
      "outputs": [],
      "source": [
        "s[:-3]"
      ]
    },
    {
      "cell_type": "code",
      "execution_count": null,
      "id": "94e7a886",
      "metadata": {
        "id": "94e7a886"
      },
      "outputs": [],
      "source": [
        "s[-2:]"
      ]
    },
    {
      "cell_type": "code",
      "execution_count": null,
      "id": "cb8082e4",
      "metadata": {
        "id": "cb8082e4"
      },
      "outputs": [],
      "source": [
        "s[::1]"
      ]
    },
    {
      "cell_type": "code",
      "execution_count": null,
      "id": "7ae21652",
      "metadata": {
        "id": "7ae21652"
      },
      "outputs": [],
      "source": [
        "s[0:50:1]"
      ]
    },
    {
      "cell_type": "code",
      "execution_count": null,
      "id": "ea90d682",
      "metadata": {
        "id": "ea90d682"
      },
      "outputs": [],
      "source": [
        "s[::-1]"
      ]
    },
    {
      "cell_type": "code",
      "execution_count": null,
      "id": "5d54ab5d",
      "metadata": {
        "id": "5d54ab5d"
      },
      "outputs": [],
      "source": [
        "s2"
      ]
    },
    {
      "cell_type": "code",
      "execution_count": null,
      "id": "b38e4ee1",
      "metadata": {
        "id": "b38e4ee1"
      },
      "outputs": [],
      "source": [
        "s2[::-1]"
      ]
    },
    {
      "cell_type": "code",
      "execution_count": null,
      "id": "ea4c29a4",
      "metadata": {
        "id": "ea4c29a4"
      },
      "outputs": [],
      "source": [
        "s[8:0:-1]='uhsnahdu' how s will come?"
      ]
    },
    {
      "cell_type": "code",
      "execution_count": null,
      "id": "c73ea2af",
      "metadata": {
        "id": "c73ea2af"
      },
      "outputs": [],
      "source": [
        "s[8:0:-1]"
      ]
    },
    {
      "cell_type": "code",
      "execution_count": null,
      "id": "76e63bdb",
      "metadata": {
        "id": "76e63bdb"
      },
      "outputs": [],
      "source": [
        "s"
      ]
    },
    {
      "cell_type": "code",
      "execution_count": null,
      "id": "ebd823c5",
      "metadata": {
        "id": "ebd823c5"
      },
      "outputs": [],
      "source": [
        "s3 = 'ineuron'"
      ]
    },
    {
      "cell_type": "code",
      "execution_count": null,
      "id": "eff2195d",
      "metadata": {
        "id": "eff2195d"
      },
      "outputs": [],
      "source": [
        "s3[::-1]"
      ]
    },
    {
      "cell_type": "code",
      "execution_count": null,
      "id": "ac1f7312",
      "metadata": {
        "id": "ac1f7312"
      },
      "outputs": [],
      "source": [
        "s3[-2:-7:1]"
      ]
    },
    {
      "cell_type": "code",
      "execution_count": null,
      "id": "f93d9c08",
      "metadata": {
        "id": "f93d9c08"
      },
      "outputs": [],
      "source": [
        "s3[-7:-2:1]"
      ]
    },
    {
      "cell_type": "code",
      "execution_count": null,
      "id": "ef7ec2b6",
      "metadata": {
        "id": "ef7ec2b6"
      },
      "outputs": [],
      "source": [
        "s[5:0]"
      ]
    },
    {
      "cell_type": "code",
      "execution_count": null,
      "id": "c5df5925",
      "metadata": {
        "id": "c5df5925"
      },
      "outputs": [],
      "source": [
        "s3[-7:-1:1] is giving 'ineuro' but why s3[-7:0:1] is giving blank ? i mean i want to print completely  'ineuron'\n"
      ]
    },
    {
      "cell_type": "code",
      "execution_count": null,
      "id": "98305ecd",
      "metadata": {
        "id": "98305ecd"
      },
      "outputs": [],
      "source": [
        "s3[-7:-1:1]"
      ]
    },
    {
      "cell_type": "code",
      "execution_count": null,
      "id": "c468488c",
      "metadata": {
        "id": "c468488c"
      },
      "outputs": [],
      "source": [
        "s3[-7:0:1]"
      ]
    },
    {
      "cell_type": "code",
      "execution_count": null,
      "id": "f7b1136b",
      "metadata": {
        "id": "f7b1136b"
      },
      "outputs": [],
      "source": [
        "s[:-1:-1] "
      ]
    },
    {
      "cell_type": "code",
      "execution_count": null,
      "id": "e88fda54",
      "metadata": {
        "id": "e88fda54"
      },
      "outputs": [],
      "source": [
        "s"
      ]
    },
    {
      "cell_type": "code",
      "execution_count": null,
      "id": "b15d50c7",
      "metadata": {
        "id": "b15d50c7"
      },
      "outputs": [],
      "source": [
        "s"
      ]
    },
    {
      "cell_type": "code",
      "execution_count": null,
      "id": "9e1a40b2",
      "metadata": {
        "id": "9e1a40b2"
      },
      "outputs": [],
      "source": [
        "s + 1"
      ]
    },
    {
      "cell_type": "code",
      "execution_count": null,
      "id": "ea65620b",
      "metadata": {
        "id": "ea65620b"
      },
      "outputs": [],
      "source": [
        "s + '1'"
      ]
    },
    {
      "cell_type": "code",
      "execution_count": null,
      "id": "5cbfcb76",
      "metadata": {
        "id": "5cbfcb76"
      },
      "outputs": [],
      "source": [
        "s+\"1\""
      ]
    },
    {
      "cell_type": "code",
      "execution_count": null,
      "id": "e215acf3",
      "metadata": {
        "id": "e215acf3"
      },
      "outputs": [],
      "source": [
        "s+ str(1)"
      ]
    },
    {
      "cell_type": "code",
      "execution_count": null,
      "id": "4f133bca",
      "metadata": {
        "id": "4f133bca"
      },
      "outputs": [],
      "source": [
        "\"sudh\" + '45634673576458745687457'\n"
      ]
    },
    {
      "cell_type": "code",
      "execution_count": null,
      "id": "be48b48b",
      "metadata": {
        "id": "be48b48b"
      },
      "outputs": [],
      "source": [
        "s"
      ]
    },
    {
      "cell_type": "code",
      "execution_count": null,
      "id": "0a4091c3",
      "metadata": {
        "id": "0a4091c3"
      },
      "outputs": [],
      "source": [
        "len(s)"
      ]
    },
    {
      "cell_type": "code",
      "execution_count": null,
      "id": "73c33469",
      "metadata": {
        "id": "73c33469"
      },
      "outputs": [],
      "source": [
        "s "
      ]
    },
    {
      "cell_type": "code",
      "execution_count": null,
      "id": "d6f3a56e",
      "metadata": {
        "id": "d6f3a56e"
      },
      "outputs": [],
      "source": [
        "s * 4"
      ]
    },
    {
      "cell_type": "code",
      "execution_count": null,
      "id": "3e2032d4",
      "metadata": {
        "id": "3e2032d4"
      },
      "outputs": [],
      "source": [
        "s"
      ]
    },
    {
      "cell_type": "code",
      "execution_count": null,
      "id": "bacfea12",
      "metadata": {
        "id": "bacfea12"
      },
      "outputs": [],
      "source": [
        "s.count('sum')"
      ]
    },
    {
      "cell_type": "code",
      "execution_count": null,
      "id": "01d2de29",
      "metadata": {
        "id": "01d2de29"
      },
      "outputs": [],
      "source": [
        "s"
      ]
    },
    {
      "cell_type": "code",
      "execution_count": null,
      "id": "ad35d8ae",
      "metadata": {
        "id": "ad35d8ae"
      },
      "outputs": [],
      "source": [
        "type(s.split('u'))"
      ]
    },
    {
      "cell_type": "code",
      "execution_count": null,
      "id": "affd70a0",
      "metadata": {
        "id": "affd70a0"
      },
      "outputs": [],
      "source": [
        "s.split('u')"
      ]
    },
    {
      "cell_type": "code",
      "execution_count": null,
      "id": "5dcacc72",
      "metadata": {
        "id": "5dcacc72"
      },
      "outputs": [],
      "source": [
        "sw = \"\"\"The Samsung Group[3] (or simply Samsung, stylized as SΛMSUNG) (Korean: 삼성 [samsʌŋ]) is a South Korean multinational manufacturing conglomerate headquartered in Samsung Town, Seoul, South Korea.[1] It comprises numerous affiliated businesses,[1] most of them united under the Samsung brand, and is the largest South Korean chaebol (business conglomerate). As of 2020, Samsung has the 8th highest global brand value.[4]\n",
        "\n",
        "Samsung was founded by Lee Byung-chul in 1938 as a trading company. Over the next three decades, the group diversified into areas including food processing, textiles, insurance, securities, and retail. Samsung entered the electronics industry in the late 1960s and the construction and shipbuilding industries in the mid-1970s; these areas would drive its subsequent growth. Following Lee's death in 1987, Samsung was separated into five business groups – Samsung Group, Shinsegae Group, CJ Group and Hansol Group, and Joongang Group.\n",
        "\n",
        "Notable Samsung industrial affiliates include Samsung Electronics (the world's largest information technology company, consumer electronics maker and chipmaker measured by 2017 revenues),[5][6] Samsung Heavy Industries (the world's 2nd largest shipbuilder measured by 2010 revenues),[7] and Samsung Engineering and Samsung C&T Corporation (respectively the world's 13th and 36th largest construction companies).[8] Other notable subsidiaries include Samsung Life Insurance (the world's 14th largest life insurance company),[9] Samsung Everland (operator of Everland Resort, the oldest theme park in South Korea)[10] and Cheil Worldwide (the world's 15th largest advertising agency, as measured by 2012 revenues).[11][12]\"\"\""
      ]
    },
    {
      "cell_type": "code",
      "execution_count": null,
      "id": "3dc066d6",
      "metadata": {
        "id": "3dc066d6"
      },
      "outputs": [],
      "source": [
        "sw = \"The Samsung Group[3] (or simply Samsung, stylized as SΛMSUNG) (Korean: 삼성 [samsʌŋ]) is a South Korean multinational manufacturing conglomerate\""
      ]
    },
    {
      "cell_type": "code",
      "execution_count": null,
      "id": "d31cb78c",
      "metadata": {
        "id": "d31cb78c"
      },
      "outputs": [],
      "source": [
        "sw"
      ]
    },
    {
      "cell_type": "code",
      "execution_count": null,
      "id": "b3073218",
      "metadata": {
        "id": "b3073218"
      },
      "outputs": [],
      "source": [
        "sw.split(' ')"
      ]
    },
    {
      "cell_type": "code",
      "execution_count": null,
      "id": "a44c898b",
      "metadata": {
        "id": "a44c898b"
      },
      "outputs": [],
      "source": [
        "sw"
      ]
    },
    {
      "cell_type": "code",
      "execution_count": null,
      "id": "fe65151a",
      "metadata": {
        "id": "fe65151a"
      },
      "outputs": [],
      "source": [
        "sw.split(' ')"
      ]
    },
    {
      "cell_type": "code",
      "execution_count": null,
      "id": "d7381fbf",
      "metadata": {
        "id": "d7381fbf"
      },
      "outputs": [],
      "source": [
        "sw"
      ]
    },
    {
      "cell_type": "code",
      "execution_count": null,
      "id": "a6cf48e1",
      "metadata": {
        "id": "a6cf48e1"
      },
      "outputs": [],
      "source": [
        "sw.upper()"
      ]
    },
    {
      "cell_type": "code",
      "execution_count": null,
      "id": "b9557aa4",
      "metadata": {
        "id": "b9557aa4"
      },
      "outputs": [],
      "source": [
        "sw"
      ]
    },
    {
      "cell_type": "code",
      "execution_count": null,
      "id": "69bfb5ed",
      "metadata": {
        "id": "69bfb5ed"
      },
      "outputs": [],
      "source": [
        "sw = sw.upper()"
      ]
    },
    {
      "cell_type": "code",
      "execution_count": null,
      "id": "59191441",
      "metadata": {
        "id": "59191441"
      },
      "outputs": [],
      "source": [
        "sw"
      ]
    },
    {
      "cell_type": "code",
      "execution_count": null,
      "id": "c5247dce",
      "metadata": {
        "id": "c5247dce"
      },
      "outputs": [],
      "source": [
        "sw.lower()"
      ]
    },
    {
      "cell_type": "code",
      "execution_count": null,
      "id": "942a4060",
      "metadata": {
        "id": "942a4060"
      },
      "outputs": [],
      "source": [
        "s = \"sudhanshu kumar\""
      ]
    },
    {
      "cell_type": "code",
      "execution_count": null,
      "id": "622fc5af",
      "metadata": {
        "id": "622fc5af"
      },
      "outputs": [],
      "source": [
        "s.title()"
      ]
    },
    {
      "cell_type": "code",
      "execution_count": null,
      "id": "6ba9191a",
      "metadata": {
        "id": "6ba9191a"
      },
      "outputs": [],
      "source": [
        "s.capitalize()"
      ]
    },
    {
      "cell_type": "code",
      "execution_count": null,
      "id": "240eea37",
      "metadata": {
        "id": "240eea37"
      },
      "outputs": [],
      "source": [
        "s = \"Sudhanshu kuMAR\""
      ]
    },
    {
      "cell_type": "code",
      "execution_count": null,
      "id": "02ad1c47",
      "metadata": {
        "id": "02ad1c47"
      },
      "outputs": [],
      "source": [
        "s.swapcase()"
      ]
    },
    {
      "cell_type": "code",
      "execution_count": null,
      "id": "455898e8",
      "metadata": {
        "id": "455898e8"
      },
      "outputs": [],
      "source": [
        "''.join(reversed(s))"
      ]
    },
    {
      "cell_type": "code",
      "execution_count": null,
      "id": "61c9dccb",
      "metadata": {
        "id": "61c9dccb"
      },
      "outputs": [],
      "source": [
        "s[::-1]"
      ]
    },
    {
      "cell_type": "code",
      "execution_count": null,
      "id": "472dbbd0",
      "metadata": {
        "id": "472dbbd0"
      },
      "outputs": [],
      "source": [
        "s = \"    su    dh    \""
      ]
    },
    {
      "cell_type": "code",
      "execution_count": null,
      "id": "7d512c42",
      "metadata": {
        "id": "7d512c42"
      },
      "outputs": [],
      "source": [
        "s.strip()"
      ]
    },
    {
      "cell_type": "code",
      "execution_count": null,
      "id": "99fdf8a2",
      "metadata": {
        "id": "99fdf8a2"
      },
      "outputs": [],
      "source": [
        "s"
      ]
    },
    {
      "cell_type": "code",
      "execution_count": null,
      "id": "12e41eab",
      "metadata": {
        "id": "12e41eab"
      },
      "outputs": [],
      "source": [
        "s.lstrip()"
      ]
    },
    {
      "cell_type": "code",
      "execution_count": null,
      "id": "3c058480",
      "metadata": {
        "id": "3c058480"
      },
      "outputs": [],
      "source": [
        "s.rstrip()"
      ]
    },
    {
      "cell_type": "code",
      "execution_count": null,
      "id": "5f6a1ad8",
      "metadata": {
        "id": "5f6a1ad8"
      },
      "outputs": [],
      "source": [
        "\"a\" . join(\"sudhanshu\")"
      ]
    },
    {
      "cell_type": "code",
      "execution_count": null,
      "id": "99610fdd",
      "metadata": {
        "id": "99610fdd"
      },
      "outputs": [],
      "source": [
        "s"
      ]
    },
    {
      "cell_type": "code",
      "execution_count": null,
      "id": "5f6bf9e8",
      "metadata": {
        "id": "5f6bf9e8"
      },
      "outputs": [],
      "source": [
        "s = \"sudh\""
      ]
    },
    {
      "cell_type": "code",
      "execution_count": null,
      "id": "45c7e91b",
      "metadata": {
        "id": "45c7e91b"
      },
      "outputs": [],
      "source": [
        "s.center(20 , '#')"
      ]
    },
    {
      "cell_type": "code",
      "execution_count": null,
      "id": "393e2cbd",
      "metadata": {
        "id": "393e2cbd"
      },
      "outputs": [],
      "source": [
        "s = \"Sudhanshu\""
      ]
    },
    {
      "cell_type": "code",
      "execution_count": null,
      "id": "cb8953d0",
      "metadata": {
        "id": "cb8953d0"
      },
      "outputs": [],
      "source": [
        "s.isupper()"
      ]
    },
    {
      "cell_type": "code",
      "execution_count": null,
      "id": "cbfdb59b",
      "metadata": {
        "id": "cbfdb59b"
      },
      "outputs": [],
      "source": [
        "s1 = \"SUDH\""
      ]
    },
    {
      "cell_type": "code",
      "execution_count": null,
      "id": "9a8d2872",
      "metadata": {
        "id": "9a8d2872"
      },
      "outputs": [],
      "source": [
        "s1.isupper()"
      ]
    },
    {
      "cell_type": "code",
      "execution_count": null,
      "id": "94f47204",
      "metadata": {
        "id": "94f47204"
      },
      "outputs": [],
      "source": [
        "s.islower()"
      ]
    },
    {
      "cell_type": "code",
      "execution_count": null,
      "id": "fb8651c4",
      "metadata": {
        "id": "fb8651c4"
      },
      "outputs": [],
      "source": [
        "s2 = \"sudh\""
      ]
    },
    {
      "cell_type": "code",
      "execution_count": null,
      "id": "28789a4b",
      "metadata": {
        "id": "28789a4b"
      },
      "outputs": [],
      "source": [
        "s2.islower()"
      ]
    },
    {
      "cell_type": "code",
      "execution_count": null,
      "id": "62ebb425",
      "metadata": {
        "id": "62ebb425"
      },
      "outputs": [],
      "source": [
        "s"
      ]
    },
    {
      "cell_type": "code",
      "execution_count": null,
      "id": "07f647af",
      "metadata": {
        "id": "07f647af"
      },
      "outputs": [],
      "source": [
        "s.isspace()"
      ]
    },
    {
      "cell_type": "code",
      "execution_count": null,
      "id": "f850c464",
      "metadata": {
        "id": "f850c464"
      },
      "outputs": [],
      "source": [
        "s4  = \"   \""
      ]
    },
    {
      "cell_type": "code",
      "execution_count": null,
      "id": "992b5c57",
      "metadata": {
        "id": "992b5c57"
      },
      "outputs": [],
      "source": [
        "s4.isspace()"
      ]
    },
    {
      "cell_type": "code",
      "execution_count": null,
      "id": "5d88e13f",
      "metadata": {
        "id": "5d88e13f"
      },
      "outputs": [],
      "source": [
        "s"
      ]
    },
    {
      "cell_type": "code",
      "execution_count": null,
      "id": "89094c48",
      "metadata": {
        "id": "89094c48"
      },
      "outputs": [],
      "source": [
        "s.isdigit()"
      ]
    },
    {
      "cell_type": "code",
      "execution_count": null,
      "id": "3feccd08",
      "metadata": {
        "id": "3feccd08"
      },
      "outputs": [],
      "source": [
        "s5 = \"32424\""
      ]
    },
    {
      "cell_type": "code",
      "execution_count": null,
      "id": "faca1ecb",
      "metadata": {
        "id": "faca1ecb"
      },
      "outputs": [],
      "source": [
        "s5.isdigit()"
      ]
    },
    {
      "cell_type": "code",
      "execution_count": null,
      "id": "047e85cf",
      "metadata": {
        "id": "047e85cf"
      },
      "outputs": [],
      "source": [
        "s6 = \"sdf3454\""
      ]
    },
    {
      "cell_type": "code",
      "execution_count": null,
      "id": "8bf23e06",
      "metadata": {
        "id": "8bf23e06"
      },
      "outputs": [],
      "source": [
        "s6.isdigit()"
      ]
    },
    {
      "cell_type": "code",
      "execution_count": null,
      "id": "2f7e532c",
      "metadata": {
        "id": "2f7e532c"
      },
      "outputs": [],
      "source": [
        "s"
      ]
    },
    {
      "cell_type": "code",
      "execution_count": null,
      "id": "4f29c5a7",
      "metadata": {
        "id": "4f29c5a7"
      },
      "outputs": [],
      "source": [
        "s.isalnum()"
      ]
    },
    {
      "cell_type": "code",
      "execution_count": null,
      "id": "289cf2b8",
      "metadata": {
        "id": "289cf2b8"
      },
      "outputs": [],
      "source": [
        "s.isalpha()"
      ]
    },
    {
      "cell_type": "code",
      "execution_count": null,
      "id": "e5b21fe2",
      "metadata": {
        "id": "e5b21fe2"
      },
      "outputs": [],
      "source": [
        "s7 = \"345345sgfdg\""
      ]
    },
    {
      "cell_type": "code",
      "execution_count": null,
      "id": "d68b17b6",
      "metadata": {
        "id": "d68b17b6"
      },
      "outputs": [],
      "source": [
        "s7.isalpha()"
      ]
    },
    {
      "cell_type": "code",
      "execution_count": null,
      "id": "f1f494db",
      "metadata": {
        "id": "f1f494db"
      },
      "outputs": [],
      "source": [
        "s"
      ]
    },
    {
      "cell_type": "code",
      "execution_count": null,
      "id": "c05c939c",
      "metadata": {
        "id": "c05c939c"
      },
      "outputs": [],
      "source": [
        "s.startswith('i')"
      ]
    },
    {
      "cell_type": "code",
      "execution_count": null,
      "id": "5acc3dad",
      "metadata": {
        "id": "5acc3dad"
      },
      "outputs": [],
      "source": [
        "s.startswith('s')"
      ]
    },
    {
      "cell_type": "code",
      "execution_count": null,
      "id": "4f178822",
      "metadata": {
        "id": "4f178822"
      },
      "outputs": [],
      "source": [
        "s.startswith(\"S\")"
      ]
    },
    {
      "cell_type": "code",
      "execution_count": null,
      "id": "9d19e9aa",
      "metadata": {
        "id": "9d19e9aa"
      },
      "outputs": [],
      "source": [
        "s.endswith('n')"
      ]
    },
    {
      "cell_type": "code",
      "execution_count": null,
      "id": "4a8014d4",
      "metadata": {
        "id": "4a8014d4"
      },
      "outputs": [],
      "source": [
        "s.endswith('u')"
      ]
    },
    {
      "cell_type": "code",
      "execution_count": null,
      "id": "82bc7032",
      "metadata": {
        "id": "82bc7032"
      },
      "outputs": [],
      "source": [
        "s"
      ]
    },
    {
      "cell_type": "code",
      "execution_count": null,
      "id": "4ebc67c5",
      "metadata": {
        "id": "4ebc67c5"
      },
      "outputs": [],
      "source": [
        "s7"
      ]
    },
    {
      "cell_type": "code",
      "execution_count": null,
      "id": "830a1db5",
      "metadata": {
        "id": "830a1db5"
      },
      "outputs": [],
      "source": [
        "s"
      ]
    },
    {
      "cell_type": "code",
      "execution_count": null,
      "id": "a91991a8",
      "metadata": {
        "id": "a91991a8"
      },
      "outputs": [],
      "source": [
        "s.isdigit()"
      ]
    },
    {
      "cell_type": "code",
      "execution_count": null,
      "id": "b0b3b87c",
      "metadata": {
        "id": "b0b3b87c"
      },
      "outputs": [],
      "source": [
        "s.isnumeric()"
      ]
    },
    {
      "cell_type": "code",
      "execution_count": null,
      "id": "55d85b77",
      "metadata": {
        "id": "55d85b77"
      },
      "outputs": [],
      "source": [
        "s.startswith(\"\")"
      ]
    },
    {
      "cell_type": "code",
      "execution_count": null,
      "id": "919861e1",
      "metadata": {
        "id": "919861e1"
      },
      "outputs": [],
      "source": [
        "s"
      ]
    },
    {
      "cell_type": "code",
      "execution_count": null,
      "id": "bc2ed536",
      "metadata": {
        "id": "bc2ed536"
      },
      "outputs": [],
      "source": [
        "s.isascii()"
      ]
    },
    {
      "cell_type": "code",
      "execution_count": null,
      "id": "9785e054",
      "metadata": {
        "id": "9785e054"
      },
      "outputs": [],
      "source": [
        "s = 'sudhanshu123   '\n",
        "\n",
        "s.isalnum()\n"
      ]
    },
    {
      "cell_type": "code",
      "execution_count": null,
      "id": "7c4fcb81",
      "metadata": {
        "id": "7c4fcb81"
      },
      "outputs": [],
      "source": [
        "s =' 5 '\n",
        "s.isspace()\n"
      ]
    },
    {
      "cell_type": "code",
      "execution_count": null,
      "id": "78175eff",
      "metadata": {
        "id": "78175eff"
      },
      "outputs": [],
      "source": [
        "s.center (20,'@')\n"
      ]
    },
    {
      "cell_type": "code",
      "execution_count": null,
      "id": "bf97c0ee",
      "metadata": {
        "id": "bf97c0ee"
      },
      "outputs": [],
      "source": [
        "s"
      ]
    },
    {
      "cell_type": "code",
      "execution_count": null,
      "id": "90948472",
      "metadata": {
        "id": "90948472"
      },
      "outputs": [],
      "source": [
        "s1 = '456'\n",
        "s1.isalnum()\n"
      ]
    },
    {
      "cell_type": "code",
      "execution_count": null,
      "id": "c04de114",
      "metadata": {
        "id": "c04de114"
      },
      "outputs": [],
      "source": [
        "s=\"this is my very first programming class\"\n"
      ]
    },
    {
      "cell_type": "code",
      "execution_count": null,
      "id": "d39a3721",
      "metadata": {
        "id": "d39a3721"
      },
      "outputs": [],
      "source": [
        "s.isspace()"
      ]
    },
    {
      "cell_type": "code",
      "execution_count": null,
      "id": "ba1fcee8",
      "metadata": {
        "id": "ba1fcee8"
      },
      "outputs": [],
      "source": [
        "s = \" 6    \""
      ]
    },
    {
      "cell_type": "code",
      "execution_count": null,
      "id": "fb995492",
      "metadata": {
        "id": "fb995492"
      },
      "outputs": [],
      "source": [
        "s.isspace()"
      ]
    },
    {
      "cell_type": "code",
      "execution_count": null,
      "id": "ab79914d",
      "metadata": {
        "id": "ab79914d"
      },
      "outputs": [],
      "source": [
        "s = \"453443\""
      ]
    },
    {
      "cell_type": "code",
      "execution_count": null,
      "id": "49bd55fc",
      "metadata": {
        "id": "49bd55fc"
      },
      "outputs": [],
      "source": [
        "s.isdigit()"
      ]
    },
    {
      "cell_type": "code",
      "execution_count": null,
      "id": "6bce4062",
      "metadata": {
        "id": "6bce4062"
      },
      "outputs": [],
      "source": [
        "s1 = \"fasfdas345346346\""
      ]
    },
    {
      "cell_type": "code",
      "execution_count": null,
      "id": "503ddca6",
      "metadata": {
        "id": "503ddca6"
      },
      "outputs": [],
      "source": [
        "s1.isnumeric()"
      ]
    },
    {
      "cell_type": "code",
      "execution_count": null,
      "id": "8085f88b",
      "metadata": {
        "id": "8085f88b"
      },
      "outputs": [],
      "source": [
        "s2 = \"345435 3455 3453\""
      ]
    },
    {
      "cell_type": "code",
      "execution_count": null,
      "id": "7ddeddb9",
      "metadata": {
        "id": "7ddeddb9"
      },
      "outputs": [],
      "source": [
        "s2.isnumeric()"
      ]
    },
    {
      "cell_type": "code",
      "execution_count": null,
      "id": "68193a7a",
      "metadata": {
        "id": "68193a7a"
      },
      "outputs": [],
      "source": [
        "s.isnumeric()"
      ]
    },
    {
      "cell_type": "code",
      "execution_count": null,
      "id": "c12bac37",
      "metadata": {
        "id": "c12bac37"
      },
      "outputs": [],
      "source": [
        "s2.isdigit()"
      ]
    },
    {
      "cell_type": "code",
      "execution_count": null,
      "id": "444702f2",
      "metadata": {
        "id": "444702f2"
      },
      "outputs": [],
      "source": [
        "s = 56"
      ]
    },
    {
      "cell_type": "code",
      "execution_count": null,
      "id": "46785c09",
      "metadata": {
        "id": "46785c09"
      },
      "outputs": [],
      "source": [
        "s= \"sudh\""
      ]
    },
    {
      "cell_type": "code",
      "execution_count": null,
      "id": "d0cd41cd",
      "metadata": {
        "id": "d0cd41cd"
      },
      "outputs": [],
      "source": [
        "reversed(s)"
      ]
    },
    {
      "cell_type": "code",
      "execution_count": null,
      "id": "7d718f63",
      "metadata": {
        "id": "7d718f63"
      },
      "outputs": [],
      "source": [
        "'d'.join(\"ineuron\")"
      ]
    },
    {
      "cell_type": "code",
      "execution_count": null,
      "id": "519985e3",
      "metadata": {
        "id": "519985e3"
      },
      "outputs": [],
      "source": [
        "\"\".join(reversed(\"sudh\"))"
      ]
    },
    {
      "cell_type": "code",
      "execution_count": null,
      "id": "314d8c50",
      "metadata": {
        "id": "314d8c50"
      },
      "outputs": [],
      "source": [
        "s= \"453453.456\""
      ]
    },
    {
      "cell_type": "code",
      "execution_count": null,
      "id": "edbad17d",
      "metadata": {
        "id": "edbad17d"
      },
      "outputs": [],
      "source": [
        "s.isdigit()"
      ]
    },
    {
      "cell_type": "code",
      "execution_count": null,
      "id": "62d07187",
      "metadata": {
        "id": "62d07187"
      },
      "outputs": [],
      "source": [
        "s.isnumeric()"
      ]
    },
    {
      "cell_type": "code",
      "execution_count": null,
      "id": "161ae891",
      "metadata": {
        "id": "161ae891"
      },
      "outputs": [],
      "source": [
        "s = 'sudhanshu\\tkumar\\tineuron'"
      ]
    },
    {
      "cell_type": "code",
      "execution_count": null,
      "id": "357e2493",
      "metadata": {
        "id": "357e2493"
      },
      "outputs": [],
      "source": [
        "s.expandtabs()"
      ]
    },
    {
      "cell_type": "code",
      "execution_count": null,
      "id": "bf2f8276",
      "metadata": {
        "id": "bf2f8276"
      },
      "outputs": [],
      "source": [
        "s=\"Sudhanshu\"\n",
        "\n",
        "\"\".join(reversed(s))\n"
      ]
    },
    {
      "cell_type": "code",
      "execution_count": null,
      "id": "29fae4c5",
      "metadata": {
        "id": "29fae4c5"
      },
      "outputs": [],
      "source": [
        "s=\"hhe\\tgge\\thhe\"\n",
        "s.expandtabs()\n"
      ]
    },
    {
      "cell_type": "code",
      "execution_count": null,
      "id": "af633e34",
      "metadata": {
        "id": "af633e34"
      },
      "outputs": [],
      "source": [
        "s = \"this is My First Python programming class and i am learNING python string and its function\"\n",
        "1 . Try to extract data from index one to index 300 with a jump of 3 \n",
        "2. Try to reverse a string without using reverse function \n",
        "3. Try to split a string after conversion of entire string in uppercase \n",
        "4. try to convert the whole string into lower case \n",
        "5 . Try to capitalize the whole string \n",
        "6 . Write a diference between isalnum() and isalpha()\n",
        "7. Try to give an example of expand tab\n",
        "8 . Give an example of strip , lstrip and rstrip \n",
        "9.  Replace a string charecter by another charector by taking your own example \n",
        "\"sudhanshu\"\n",
        "10 . Try  to give a defination of string center function with and exmple \n",
        "11 . Write your own definition of compiler and interpretor without copy paste form internet in your own language\n",
        "12 . Python is a interpreted of compiled language give a clear ans with your understanding \n",
        "13 . Try to write a usecase of python with your understanding .\n",
        "\n",
        "\n",
        "you have to send a jupyter notebook to shivan@ineuron.ai before next saturday class 21st of may . \n"
      ]
    },
    {
      "cell_type": "code",
      "execution_count": null,
      "id": "748dc4a1",
      "metadata": {
        "id": "748dc4a1"
      },
      "outputs": [],
      "source": [
        "https://codeshare.io/X8PY8Y"
      ]
    },
    {
      "cell_type": "code",
      "execution_count": null,
      "id": "0df42042",
      "metadata": {
        "id": "0df42042"
      },
      "outputs": [],
      "source": [
        "s = \"sudhanshu\"\n",
        "s[-2:-7]"
      ]
    },
    {
      "cell_type": "code",
      "execution_count": null,
      "id": "346ecf7d",
      "metadata": {
        "id": "346ecf7d"
      },
      "outputs": [],
      "source": [
        "x = '\\13'"
      ]
    },
    {
      "cell_type": "code",
      "execution_count": null,
      "id": "94da8b05",
      "metadata": {
        "id": "94da8b05"
      },
      "outputs": [],
      "source": [
        "x.isspace()"
      ]
    },
    {
      "cell_type": "code",
      "execution_count": null,
      "id": "1197db7d",
      "metadata": {
        "id": "1197db7d"
      },
      "outputs": [],
      "source": [
        "True "
      ]
    },
    {
      "cell_type": "code",
      "execution_count": null,
      "id": "996ad10e",
      "metadata": {
        "id": "996ad10e"
      },
      "outputs": [],
      "source": [
        "True -True "
      ]
    },
    {
      "cell_type": "code",
      "execution_count": null,
      "id": "dde145fc",
      "metadata": {
        "id": "dde145fc"
      },
      "outputs": [],
      "source": [
        "s= \"Rambabu\""
      ]
    },
    {
      "cell_type": "code",
      "execution_count": null,
      "id": "796b50cb",
      "metadata": {
        "id": "796b50cb"
      },
      "outputs": [],
      "source": [
        "s[::-1]"
      ]
    },
    {
      "cell_type": "code",
      "execution_count": null,
      "id": "602fe207",
      "metadata": {
        "id": "602fe207"
      },
      "outputs": [],
      "source": [
        "s[::+1]"
      ]
    },
    {
      "cell_type": "code",
      "execution_count": null,
      "id": "c840bc01",
      "metadata": {
        "id": "c840bc01"
      },
      "outputs": [],
      "source": [
        "s =\"man's work\""
      ]
    },
    {
      "cell_type": "code",
      "execution_count": null,
      "id": "96635fd4",
      "metadata": {
        "id": "96635fd4"
      },
      "outputs": [],
      "source": [
        "s"
      ]
    },
    {
      "cell_type": "code",
      "execution_count": null,
      "id": "cf5d3a59",
      "metadata": {
        "id": "cf5d3a59"
      },
      "outputs": [],
      "source": [
        "sw"
      ]
    },
    {
      "cell_type": "code",
      "execution_count": null,
      "id": "f902de4a",
      "metadata": {
        "id": "f902de4a"
      },
      "outputs": [],
      "source": [
        "len(sw.splitlines())"
      ]
    },
    {
      "cell_type": "code",
      "execution_count": null,
      "id": "893e46eb",
      "metadata": {
        "id": "893e46eb"
      },
      "outputs": [],
      "source": [
        "s= \"sudhanshu\"\n",
        "s.split('u')"
      ]
    },
    {
      "cell_type": "code",
      "execution_count": null,
      "id": "e452843b",
      "metadata": {
        "id": "e452843b"
      },
      "outputs": [],
      "source": [
        "b = \"ujjwal\""
      ]
    },
    {
      "cell_type": "code",
      "execution_count": null,
      "id": "ffb7bfd2",
      "metadata": {
        "id": "ffb7bfd2"
      },
      "outputs": [],
      "source": [
        "b.center(7, \"#\")"
      ]
    },
    {
      "cell_type": "code",
      "execution_count": null,
      "id": "e0e5e254",
      "metadata": {
        "id": "e0e5e254"
      },
      "outputs": [],
      "source": [
        "s = 'ar\\bt\\yt'"
      ]
    },
    {
      "cell_type": "code",
      "execution_count": null,
      "id": "ebe7ade1",
      "metadata": {
        "id": "ebe7ade1"
      },
      "outputs": [],
      "source": [
        "s.expandtabs()"
      ]
    },
    {
      "cell_type": "code",
      "execution_count": null,
      "id": "1db49dc6",
      "metadata": {
        "id": "1db49dc6"
      },
      "outputs": [],
      "source": [
        "s= \"sudhanshu\"\n",
        "s[-2:]"
      ]
    },
    {
      "cell_type": "code",
      "execution_count": null,
      "id": "ca56678a",
      "metadata": {
        "id": "ca56678a"
      },
      "outputs": [],
      "source": [
        "\"\"\"The Samsung Group[3] (or simply Samsung, stylized as SΛMSUNG) (Korean: 삼성 [samsʌŋ]) is a South Korean multinational manufacturing conglomerate headquartered in Samsung Town, Seoul, South Korea.[1] It comprises numerous affiliated businesses,[1] most of them united under the Samsung brand, and is the largest South Korean chaebol (business conglomerate). As of 2020, Samsung has the 8th highest global brand value.[4]\n",
        "\n",
        "Samsung was founded by Lee Byung-chul in 1938 as a trading company. Over the next three decades, the group diversified into areas including food processing, textiles, insurance, securities, and retail. Samsung entered the electronics industry in the late 1960s and the construction and shipbuilding industries in the mid-1970s; these areas would drive its subsequent growth. Following Lee's death in 1987, Samsung was separated into five business groups – Samsung Group, Shinsegae Group, CJ Group and Hansol Group, and Joongang Group.\n",
        "\n",
        "Notable Samsung industrial affiliates include Samsung Electronics (the world's largest information technology company, consumer electronics maker and chipmaker measured by 2017 revenues),[5][6] Samsung Heavy Industries (the world's 2nd largest shipbuilder measured by 2010 revenues),[7] and Samsung Engineering and Samsung C&T Corporation (respectively the world's 13th and 36th largest construction companies).[8] Other notable subsidiaries include Samsung Life Insurance (the world's 14th largest life insurance company),[9] Samsung Everland (operator of Everland Resort, the oldest theme park in South Korea)[10] and Cheil Worldwide (the world's 15th largest advertising agency, as measured by 2012 revenues).[11][12]\"\"\""
      ]
    },
    {
      "cell_type": "code",
      "execution_count": null,
      "id": "a7285532",
      "metadata": {
        "id": "a7285532"
      },
      "outputs": [],
      "source": [
        "c = \"iNeuron\"\n",
        "c[-7:0:1]"
      ]
    },
    {
      "cell_type": "code",
      "execution_count": null,
      "id": "14ebdb2b",
      "metadata": {
        "id": "14ebdb2b"
      },
      "outputs": [],
      "source": [
        "s = \"sudhanshu\\tkumar\""
      ]
    },
    {
      "cell_type": "code",
      "execution_count": null,
      "id": "c104f85c",
      "metadata": {
        "id": "c104f85c"
      },
      "outputs": [],
      "source": [
        "s.expandtabs()"
      ]
    },
    {
      "cell_type": "code",
      "execution_count": null,
      "id": "7957cfb4",
      "metadata": {
        "id": "7957cfb4"
      },
      "outputs": [],
      "source": [
        "\"sudh\" *3 "
      ]
    },
    {
      "cell_type": "code",
      "execution_count": null,
      "id": "542c53c6",
      "metadata": {
        "id": "542c53c6"
      },
      "outputs": [],
      "source": [
        "sw"
      ]
    },
    {
      "cell_type": "code",
      "execution_count": null,
      "id": "0020ddcb",
      "metadata": {
        "id": "0020ddcb"
      },
      "outputs": [],
      "source": [
        "s= sw.upper()"
      ]
    },
    {
      "cell_type": "code",
      "execution_count": null,
      "id": "89750e7b",
      "metadata": {
        "id": "89750e7b"
      },
      "outputs": [],
      "source": [
        "s.title()"
      ]
    },
    {
      "cell_type": "code",
      "execution_count": null,
      "id": "04eea734",
      "metadata": {
        "id": "04eea734"
      },
      "outputs": [],
      "source": [
        "s.splitlines()"
      ]
    },
    {
      "cell_type": "code",
      "execution_count": null,
      "id": "10912834",
      "metadata": {
        "id": "10912834"
      },
      "outputs": [],
      "source": [
        "s = \"sudhanshu\"\n",
        "s[len(s):0:-1]"
      ]
    },
    {
      "cell_type": "code",
      "execution_count": null,
      "id": "0aca9eee",
      "metadata": {
        "id": "0aca9eee"
      },
      "outputs": [],
      "source": [
        "\"\".join(\"sudhanshu\")"
      ]
    },
    {
      "cell_type": "code",
      "execution_count": null,
      "id": "2a0f1be3",
      "metadata": {
        "id": "2a0f1be3"
      },
      "outputs": [],
      "source": [
        "s= \"sudhanshu\"\n",
        "s= reversed(s)\n",
        "\"\".join(s)\n"
      ]
    },
    {
      "cell_type": "code",
      "execution_count": null,
      "id": "52736866",
      "metadata": {
        "id": "52736866"
      },
      "outputs": [],
      "source": [
        "\"\".join(s)"
      ]
    },
    {
      "cell_type": "code",
      "execution_count": null,
      "id": "c50bbd41",
      "metadata": {
        "id": "c50bbd41"
      },
      "outputs": [],
      "source": [
        "\"\".join(s)"
      ]
    },
    {
      "cell_type": "code",
      "execution_count": null,
      "id": "1b9df594",
      "metadata": {
        "id": "1b9df594"
      },
      "outputs": [],
      "source": [
        "s"
      ]
    },
    {
      "cell_type": "code",
      "execution_count": null,
      "id": "463f93a9",
      "metadata": {
        "id": "463f93a9"
      },
      "outputs": [],
      "source": [
        "for i in s :\n",
        "    print(i)"
      ]
    },
    {
      "cell_type": "code",
      "execution_count": null,
      "id": "e2595d92",
      "metadata": {
        "id": "e2595d92"
      },
      "outputs": [],
      "source": [
        "s = 'ineuron'"
      ]
    },
    {
      "cell_type": "code",
      "execution_count": null,
      "id": "f10a8dc1",
      "metadata": {
        "id": "f10a8dc1"
      },
      "outputs": [],
      "source": [
        "s[-1:]"
      ]
    },
    {
      "cell_type": "code",
      "execution_count": null,
      "id": "a837075f",
      "metadata": {
        "id": "a837075f"
      },
      "outputs": [],
      "source": [
        "s = \"sudhanshu\"\n",
        "s[-12:-1:1]"
      ]
    },
    {
      "cell_type": "code",
      "execution_count": null,
      "id": "2423481c",
      "metadata": {
        "id": "2423481c"
      },
      "outputs": [],
      "source": [
        "s[-12:0:1]"
      ]
    },
    {
      "cell_type": "code",
      "execution_count": null,
      "id": "2ba85d31",
      "metadata": {
        "id": "2ba85d31"
      },
      "outputs": [],
      "source": [
        "s = \"i\\live\\in\\delhi\""
      ]
    },
    {
      "cell_type": "code",
      "execution_count": null,
      "id": "4a61d378",
      "metadata": {
        "id": "4a61d378"
      },
      "outputs": [],
      "source": [
        "s.split('\\\\')"
      ]
    },
    {
      "cell_type": "code",
      "execution_count": null,
      "id": "91df19ce",
      "metadata": {
        "id": "91df19ce"
      },
      "outputs": [],
      "source": [
        "s = \"sudh\"\n",
        "s.isalpha()"
      ]
    },
    {
      "cell_type": "code",
      "execution_count": null,
      "id": "9fa031ab",
      "metadata": {
        "id": "9fa031ab"
      },
      "outputs": [],
      "source": [
        "s1 = \"sudh3453\""
      ]
    },
    {
      "cell_type": "code",
      "execution_count": null,
      "id": "9d05fa78",
      "metadata": {
        "id": "9d05fa78"
      },
      "outputs": [],
      "source": [
        "s1.isalnum()"
      ]
    },
    {
      "cell_type": "code",
      "execution_count": null,
      "id": "3b5e4198",
      "metadata": {
        "id": "3b5e4198"
      },
      "outputs": [],
      "source": [
        ""
      ]
    }
  ],
  "metadata": {
    "kernelspec": {
      "display_name": "Python 3 (ipykernel)",
      "language": "python",
      "name": "python3"
    },
    "language_info": {
      "codemirror_mode": {
        "name": "ipython",
        "version": 3
      },
      "file_extension": ".py",
      "mimetype": "text/x-python",
      "name": "python",
      "nbconvert_exporter": "python",
      "pygments_lexer": "ipython3",
      "version": "3.9.7"
    },
    "colab": {
      "name": "Python string basic  (2).ipynb",
      "provenance": []
    }
  },
  "nbformat": 4,
  "nbformat_minor": 5
}