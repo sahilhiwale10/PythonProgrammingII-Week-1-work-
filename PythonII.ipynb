{
  "nbformat": 4,
  "nbformat_minor": 0,
  "metadata": {
    "colab": {
      "provenance": [],
      "collapsed_sections": []
    },
    "kernelspec": {
      "name": "python3",
      "display_name": "Python 3"
    },
    "language_info": {
      "name": "python"
    }
  },
  "cells": [
    {
      "cell_type": "markdown",
      "source": [
        "SECTION A\n",
        "\n",
        "1)Write a python program to print \"Hello Python\""
      ],
      "metadata": {
        "id": "IkL7hYaayqqQ"
      }
    },
    {
      "cell_type": "code",
      "execution_count": null,
      "metadata": {
        "id": "ioV8YUeOrATC",
        "colab": {
          "base_uri": "https://localhost:8080/"
        },
        "outputId": "59bb3176-20cd-4f62-ab1c-46d317386b38"
      },
      "outputs": [
        {
          "output_type": "stream",
          "name": "stdout",
          "text": [
            "Hello Python\n"
          ]
        }
      ],
      "source": [
        "def myfun():\n",
        "   a=\"Hello Python\"\n",
        "   print(a)\n",
        "myfun()   "
      ]
    },
    {
      "cell_type": "markdown",
      "source": [
        "2)Write a python program to do arithmetical operations addition and division"
      ],
      "metadata": {
        "id": "2Ll2g3NVznF8"
      }
    },
    {
      "cell_type": "code",
      "source": [
        "a=int(input(\"Enter the value:\"))\n",
        "b=int(input(\"Enter the value:\"))\n",
        "sum=a+b\n",
        "print(sum)\n",
        "div=a/b\n",
        "print(div)"
      ],
      "metadata": {
        "colab": {
          "base_uri": "https://localhost:8080/"
        },
        "id": "W767N_nCzmHf",
        "outputId": "5dd24069-3d80-4b19-a5a7-b15d38475135"
      },
      "execution_count": null,
      "outputs": [
        {
          "output_type": "stream",
          "name": "stdout",
          "text": [
            "Enter the value:2\n",
            "Enter the value:3\n",
            "5\n",
            "0.6666666666666666\n"
          ]
        }
      ]
    },
    {
      "cell_type": "markdown",
      "source": [
        "3)Write a python program to find area of triangle\n"
      ],
      "metadata": {
        "id": "CVQgg-Ph0eNS"
      }
    },
    {
      "cell_type": "code",
      "source": [
        "base=float(input(\"Enter the base value:\"))\n",
        "height=float(input(\"Enter the height value:\"))\n",
        "area=0.5*base*height\n",
        "print(\"Area of Triangle=\",area)"
      ],
      "metadata": {
        "colab": {
          "base_uri": "https://localhost:8080/"
        },
        "id": "JgxnRaxS0oHB",
        "outputId": "137257ae-6f3b-4275-ee67-3b9c6d92d294"
      },
      "execution_count": null,
      "outputs": [
        {
          "output_type": "stream",
          "name": "stdout",
          "text": [
            "Enter the base value:10\n",
            "Enter the height value:20\n",
            "Area of Triangle= 100.0\n"
          ]
        }
      ]
    },
    {
      "cell_type": "markdown",
      "source": [
        "4)Write a python program to swap two variables"
      ],
      "metadata": {
        "id": "L6W6gGEy1UKA"
      }
    },
    {
      "cell_type": "code",
      "source": [
        "a=10\n",
        "b=20\n",
        "temp=a\n",
        "a=b\n",
        "b=temp\n",
        "print(\"Value of a=\",a)\n",
        "print(\"value of b=\",b)\n"
      ],
      "metadata": {
        "colab": {
          "base_uri": "https://localhost:8080/"
        },
        "id": "twZrCD4z1bd1",
        "outputId": "8d3a9ca5-01a3-4ee4-8baa-a7a87da7be39"
      },
      "execution_count": null,
      "outputs": [
        {
          "output_type": "stream",
          "name": "stdout",
          "text": [
            "Value of a= 20\n",
            "value of b= 10\n"
          ]
        }
      ]
    },
    {
      "cell_type": "markdown",
      "source": [
        "5)Write a python program to generate a random number"
      ],
      "metadata": {
        "id": "n1xbhKz72awG"
      }
    },
    {
      "cell_type": "code",
      "source": [
        "import random\n",
        "print(random.randint(0,9))"
      ],
      "metadata": {
        "colab": {
          "base_uri": "https://localhost:8080/"
        },
        "id": "4Lilt9Qy2h4i",
        "outputId": "45da557e-d30c-4059-bfc1-7b6ee99d9f7e"
      },
      "execution_count": null,
      "outputs": [
        {
          "output_type": "stream",
          "name": "stdout",
          "text": [
            "4\n"
          ]
        }
      ]
    },
    {
      "cell_type": "markdown",
      "source": [
        "SECTION B\n",
        "\n",
        "1)Write a python program to convert kilometer to miles"
      ],
      "metadata": {
        "id": "WeYOOrV522AE"
      }
    },
    {
      "cell_type": "code",
      "source": [
        "KM=int(input(\"Enter the kilometer value:\"))\n",
        "Miles=0.621*KM\n",
        "print(\"Kilometer=\",KM,\"Miles=\",Miles)"
      ],
      "metadata": {
        "colab": {
          "base_uri": "https://localhost:8080/"
        },
        "id": "Sc3pbZpN3RmV",
        "outputId": "b9916769-9e29-4296-bb47-9716404fb24f"
      },
      "execution_count": null,
      "outputs": [
        {
          "output_type": "stream",
          "name": "stdout",
          "text": [
            "Enter the kilometer value:20\n",
            "Kilometer= 20 Miles= 12.42\n"
          ]
        }
      ]
    },
    {
      "cell_type": "markdown",
      "source": [
        "2)Write a python program to convert celsius to Fahrenheit"
      ],
      "metadata": {
        "id": "9FczMokA4URZ"
      }
    },
    {
      "cell_type": "code",
      "source": [
        "celsius=float(input(\"Enter the celsius value:\"))\n",
        "fahrenheit=(celsius*9/5)+32\n",
        "print(\"Celsius=\",celsius,\"Fahrenheit=\",fahrenheit)"
      ],
      "metadata": {
        "colab": {
          "base_uri": "https://localhost:8080/"
        },
        "id": "QzSPveV63_B0",
        "outputId": "860ed657-ecba-49c4-a119-116612ce4c86"
      },
      "execution_count": null,
      "outputs": [
        {
          "output_type": "stream",
          "name": "stdout",
          "text": [
            "Enter the celsius value:50\n",
            "Celsius= 50.0 Fahrenheit= 122.0\n"
          ]
        }
      ]
    },
    {
      "cell_type": "markdown",
      "source": [],
      "metadata": {
        "id": "Kh1mG7fc51Ml"
      }
    },
    {
      "cell_type": "markdown",
      "source": [
        "3)Write a python program to display calendar"
      ],
      "metadata": {
        "id": "DqoNuEPa51Tn"
      }
    },
    {
      "cell_type": "code",
      "source": [
        "import calendar\n",
        "y=2022\n",
        "m=8\n",
        "print(calendar.month(y,m))"
      ],
      "metadata": {
        "colab": {
          "base_uri": "https://localhost:8080/"
        },
        "id": "tn1s-Cx46BFN",
        "outputId": "4ce76a81-b57b-4504-ebcf-bd8c71181a91"
      },
      "execution_count": null,
      "outputs": [
        {
          "output_type": "stream",
          "name": "stdout",
          "text": [
            "    August 2022\n",
            "Mo Tu We Th Fr Sa Su\n",
            " 1  2  3  4  5  6  7\n",
            " 8  9 10 11 12 13 14\n",
            "15 16 17 18 19 20 21\n",
            "22 23 24 25 26 27 28\n",
            "29 30 31\n",
            "\n"
          ]
        }
      ]
    },
    {
      "cell_type": "markdown",
      "source": [
        "4)Write a python program to solve quadratic equation\n"
      ],
      "metadata": {
        "id": "E2cJ8VqS7HcC"
      }
    },
    {
      "cell_type": "code",
      "source": [
        "import cmath\n",
        "a = 2\n",
        "b = 2\n",
        "c = 3\n",
        "d = (b**2) - (4*a*c)\n",
        "sol1 = (-b-cmath.sqrt(d))/(2*a)\n",
        "sol2 = (-b+cmath.sqrt(d))/(2*a)\n",
        "print(sol1,sol2)"
      ],
      "metadata": {
        "colab": {
          "base_uri": "https://localhost:8080/"
        },
        "id": "NPZM6TBs7Nki",
        "outputId": "784955a4-cf26-4d32-fa4d-8f4aaa1623b8"
      },
      "execution_count": null,
      "outputs": [
        {
          "output_type": "stream",
          "name": "stdout",
          "text": [
            "(-0.5-1.118033988749895j) (-0.5+1.118033988749895j)\n"
          ]
        }
      ]
    },
    {
      "cell_type": "markdown",
      "source": [
        "5)Write a python program to solve two variables without temp. variables"
      ],
      "metadata": {
        "id": "m0A-jFEf8dAB"
      }
    },
    {
      "cell_type": "code",
      "source": [
        "a=8\n",
        "b=3\n",
        "a=a+b\n",
        "b=a-b\n",
        "a=a-b\n",
        "print(\"a=\",a,\"b=\",b)"
      ],
      "metadata": {
        "colab": {
          "base_uri": "https://localhost:8080/"
        },
        "id": "q7fy_ZEf8mYL",
        "outputId": "d80e2d05-4f5a-48aa-ef77-a56b81e3b2b4"
      },
      "execution_count": null,
      "outputs": [
        {
          "output_type": "stream",
          "name": "stdout",
          "text": [
            "a= 3 b= 8\n"
          ]
        }
      ]
    },
    {
      "cell_type": "markdown",
      "source": [
        "SECTION C\n",
        "\n",
        "1)Write a Python Program to Check if a Number is Positive, Negative or Zero?"
      ],
      "metadata": {
        "id": "CF9xjRvQAHI5"
      }
    },
    {
      "cell_type": "code",
      "source": [
        "num=int(input(\"Enter the value:\"))\n",
        "if num>0:\n",
        "   print(\"Positive Number\")\n",
        "elif num<0:\n",
        "   print(\"Negative Numeber\")\n",
        "else:\n",
        "   print(\"zero\")   "
      ],
      "metadata": {
        "colab": {
          "base_uri": "https://localhost:8080/"
        },
        "id": "8Hh3PtjVAXgb",
        "outputId": "1a6949e9-f9e8-419c-c315-39698c867f6e"
      },
      "execution_count": null,
      "outputs": [
        {
          "output_type": "stream",
          "name": "stdout",
          "text": [
            "Enter the value:10\n",
            "Positive Number\n"
          ]
        }
      ]
    },
    {
      "cell_type": "markdown",
      "source": [
        "2)Write a Python Program to Check if a Number is Odd or Even?"
      ],
      "metadata": {
        "id": "-EUHPCL3Bgcl"
      }
    },
    {
      "cell_type": "code",
      "source": [
        "num=int(input(\"Enter the value:\"))\n",
        "if num%2==0:\n",
        "  print(\"It is Even\")\n",
        "else:\n",
        "  print(\"It is odd\")"
      ],
      "metadata": {
        "colab": {
          "base_uri": "https://localhost:8080/"
        },
        "id": "vnfz3mlDBqRL",
        "outputId": "09af725b-40dc-4f9e-e280-041eae1dd650"
      },
      "execution_count": null,
      "outputs": [
        {
          "output_type": "stream",
          "name": "stdout",
          "text": [
            "Enter the value:10\n",
            "It is Even\n"
          ]
        }
      ]
    },
    {
      "cell_type": "markdown",
      "source": [
        "3)Write a Python Program to Check Leap Year?"
      ],
      "metadata": {
        "id": "Pu2Y9_vjB_7k"
      }
    },
    {
      "cell_type": "code",
      "source": [
        "year=int(input(\"Enter the year:\"))\n",
        "if (year % 400 == 0) and (year % 100 == 0):\n",
        "    print(\"This is a leap year\")\n",
        "elif (year % 4 ==0) and (year % 100 != 0):\n",
        "    print(\"This is a leap year\")\n",
        "else:\n",
        "    print(\"This is not a leap year\")\n"
      ],
      "metadata": {
        "colab": {
          "base_uri": "https://localhost:8080/"
        },
        "id": "YgLdt7xzCDr0",
        "outputId": "9c233694-6bf2-4ec9-d3e1-7aa685480313"
      },
      "execution_count": null,
      "outputs": [
        {
          "output_type": "stream",
          "name": "stdout",
          "text": [
            "Enter the year:2016\n",
            "This is a leap year\n"
          ]
        }
      ]
    },
    {
      "cell_type": "markdown",
      "source": [
        "4)Write a Python Program to Check Prime Number?"
      ],
      "metadata": {
        "id": "Q4wqzqMuOBih"
      }
    },
    {
      "cell_type": "code",
      "source": [
        "num=int(input(\"Enter the value:\"))\n",
        "if num > 1:\n",
        "    for i in range(2, int(num/2)+1):\n",
        "        if (num % i) == 0:\n",
        "            print(num, \"is not a prime number\")\n",
        "            break\n",
        "    else:\n",
        "        print(num, \"is a prime number\")\n",
        "else:\n",
        "    print(num, \"is not a prime number\")"
      ],
      "metadata": {
        "id": "EvQR0XwmOGbC",
        "colab": {
          "base_uri": "https://localhost:8080/"
        },
        "outputId": "c2bd00cc-9550-4db2-98ce-29129e140923"
      },
      "execution_count": null,
      "outputs": [
        {
          "output_type": "stream",
          "name": "stdout",
          "text": [
            "Enter the value:11\n",
            "11 is a prime number\n"
          ]
        }
      ]
    },
    {
      "cell_type": "markdown",
      "source": [
        "5)Write a Python Program to Print all Prime Numbers in an Interval of 1-10000?"
      ],
      "metadata": {
        "id": "0ztInztavsMg"
      }
    },
    {
      "cell_type": "code",
      "source": [
        "lower=int(input(\"Enter the loer range:\"))\n",
        "upper=int(input(\"Enter the upper range:\"))\n",
        "print(\"Prime numbers between\", lower, \"and\", upper, \"are:\")\n",
        "for num in range(lower, upper + 1):  \n",
        "   if num > 1:\n",
        "       for i in range(2, num):\n",
        "           if (num % i) == 0:\n",
        "               break\n",
        "       else:\n",
        "           print(num)"
      ],
      "metadata": {
        "colab": {
          "base_uri": "https://localhost:8080/"
        },
        "id": "WM4W2dVfvyQP",
        "outputId": "a7dfc885-2bb6-4879-b281-250f62305821"
      },
      "execution_count": null,
      "outputs": [
        {
          "output_type": "stream",
          "name": "stdout",
          "text": [
            "Enter the loer range:900\n",
            "Enter the upper range:1000\n",
            "Prime numbers between 900 and 1000 are:\n",
            "907\n",
            "911\n",
            "919\n",
            "929\n",
            "937\n",
            "941\n",
            "947\n",
            "953\n",
            "967\n",
            "971\n",
            "977\n",
            "983\n",
            "991\n",
            "997\n"
          ]
        }
      ]
    },
    {
      "cell_type": "markdown",
      "source": [
        "SECTION D\n",
        "\n",
        "1)Write a Python Program to Find the Factorial of a Number?"
      ],
      "metadata": {
        "id": "dUwkC32xv_1Y"
      }
    },
    {
      "cell_type": "code",
      "source": [
        "def fact(n):\n",
        "  fact=1\n",
        "  for i in range(1,n+1):\n",
        "    fact=fact*i\n",
        "  print(fact)  \n",
        "fact(6)\n"
      ],
      "metadata": {
        "colab": {
          "base_uri": "https://localhost:8080/"
        },
        "id": "GwEPPGd4wFf2",
        "outputId": "86f0a8b7-23ef-43de-da3e-105c1d351fe8"
      },
      "execution_count": null,
      "outputs": [
        {
          "output_type": "stream",
          "name": "stdout",
          "text": [
            "720\n"
          ]
        }
      ]
    },
    {
      "cell_type": "markdown",
      "source": [
        "2)Write a Python Program to Display the multiplication Table?"
      ],
      "metadata": {
        "id": "02TW5MnjxJX0"
      }
    },
    {
      "cell_type": "code",
      "source": [
        "num=int(input(\"Multiplication table of:\"))\n",
        "for i in range(1, 11):\n",
        "   print(num, 'x', i, '=', num*i)"
      ],
      "metadata": {
        "colab": {
          "base_uri": "https://localhost:8080/"
        },
        "id": "krvzyrCWxMgl",
        "outputId": "ea305c1b-477d-44fe-b282-a4ee718aef73"
      },
      "execution_count": null,
      "outputs": [
        {
          "output_type": "stream",
          "name": "stdout",
          "text": [
            "Multiplication table of:5\n",
            "5 x 1 = 5\n",
            "5 x 2 = 10\n",
            "5 x 3 = 15\n",
            "5 x 4 = 20\n",
            "5 x 5 = 25\n",
            "5 x 6 = 30\n",
            "5 x 7 = 35\n",
            "5 x 8 = 40\n",
            "5 x 9 = 45\n",
            "5 x 10 = 50\n"
          ]
        }
      ]
    },
    {
      "cell_type": "markdown",
      "source": [
        "3)Write a Python Program to Print the Fibonacci sequence"
      ],
      "metadata": {
        "id": "nj81QsUrxtNK"
      }
    },
    {
      "cell_type": "code",
      "source": [
        "a=0\n",
        "b=1\n",
        "print(a)\n",
        "print(b)\n",
        "for i in range(1,11):\n",
        "  c=a+b\n",
        "  a=b\n",
        "  b=c\n",
        "  print(c)\n"
      ],
      "metadata": {
        "colab": {
          "base_uri": "https://localhost:8080/"
        },
        "id": "ATjv05vaxw-6",
        "outputId": "53879b45-e22d-4ec3-fb62-e475217e097c"
      },
      "execution_count": null,
      "outputs": [
        {
          "output_type": "stream",
          "name": "stdout",
          "text": [
            "0\n",
            "1\n",
            "1\n",
            "2\n",
            "3\n",
            "5\n",
            "8\n",
            "13\n",
            "21\n",
            "34\n",
            "55\n",
            "89\n"
          ]
        }
      ]
    },
    {
      "cell_type": "markdown",
      "source": [
        "4)Write a Python Program to Check Armstrong Number?"
      ],
      "metadata": {
        "id": "ebulD2vlzxfW"
      }
    },
    {
      "cell_type": "code",
      "source": [
        "num = int(input(\"Enter a number: \"))\n",
        "sum = 0\n",
        "temp = num\n",
        "while temp > 0:\n",
        "   digit = temp % 10\n",
        "   sum += digit ** 3\n",
        "   temp //= 10\n",
        "if num == sum:\n",
        "   print(num,\"is an Armstrong number\")\n",
        "else:\n",
        "   print(num,\"is not an Armstrong number\")"
      ],
      "metadata": {
        "colab": {
          "base_uri": "https://localhost:8080/"
        },
        "id": "io1xeUQHz06h",
        "outputId": "a48716ad-fd64-4bc3-9a76-ef66ebfa13c0"
      },
      "execution_count": null,
      "outputs": [
        {
          "output_type": "stream",
          "name": "stdout",
          "text": [
            "Enter a number: 371\n",
            "371 is an Armstrong number\n"
          ]
        }
      ]
    },
    {
      "cell_type": "markdown",
      "source": [
        "5)Write a Python Program to Find Armstrong Number in an Interval?"
      ],
      "metadata": {
        "id": "dLu2mZ_dzeEo"
      }
    },
    {
      "cell_type": "code",
      "source": [
        "lower=int(input(\"Enter lower range:\"))\n",
        "upper=int(input(\"Enter upper range:\"))\n",
        "for i in range(lower,upper+1):\n",
        "  sum=0\n",
        "  num=i\n",
        "  while(i!=0):\n",
        "    digit=i%10\n",
        "    sum=sum+(digit*digit*digit)\n",
        "    i=i//10\n",
        "  if sum==num:\n",
        "     print(num)"
      ],
      "metadata": {
        "colab": {
          "base_uri": "https://localhost:8080/"
        },
        "id": "6FfOQGrC0Rr1",
        "outputId": "ba393d89-a03c-4c4e-9ce0-fbf569eb29aa"
      },
      "execution_count": null,
      "outputs": [
        {
          "output_type": "stream",
          "name": "stdout",
          "text": [
            "Enter lower range:1\n",
            "Enter upper range:2000\n",
            "1\n",
            "153\n",
            "370\n",
            "371\n",
            "407\n"
          ]
        }
      ]
    },
    {
      "cell_type": "markdown",
      "source": [
        "6)Write a Python Program to Find the Sum of Natural Numbers?"
      ],
      "metadata": {
        "id": "JD0Aj2T31yCr"
      }
    },
    {
      "cell_type": "code",
      "source": [
        "num=int(input(\"Enter the value:\"))\n",
        "if num < 0:\n",
        "   print(\"Enter a positive number\")\n",
        "else:\n",
        "   sum = 0\n",
        "   while(num > 0):\n",
        "       sum += num\n",
        "       num -= 1\n",
        "   print(\"The sum is\", sum)"
      ],
      "metadata": {
        "colab": {
          "base_uri": "https://localhost:8080/"
        },
        "id": "6tHrCFmT1zjf",
        "outputId": "0c71c300-9751-43e7-994d-d6b984534309"
      },
      "execution_count": null,
      "outputs": [
        {
          "output_type": "stream",
          "name": "stdout",
          "text": [
            "Enter the value:20\n",
            "The sum is 210\n"
          ]
        }
      ]
    },
    {
      "cell_type": "markdown",
      "source": [
        "SECTION E\n",
        "\n",
        "1)Write a Python Program to find sum of array?"
      ],
      "metadata": {
        "id": "M5EaSTdE3LWn"
      }
    },
    {
      "cell_type": "code",
      "source": [
        "array=[6,4,3,2,1]\n",
        "sum=0\n",
        "for num in array:\n",
        "  sum=sum+num\n",
        "print(sum)"
      ],
      "metadata": {
        "colab": {
          "base_uri": "https://localhost:8080/"
        },
        "id": "BrIFag433R4P",
        "outputId": "3c21a25b-b146-4be7-b7e2-ff5dbf0bc04b"
      },
      "execution_count": null,
      "outputs": [
        {
          "output_type": "stream",
          "name": "stdout",
          "text": [
            "16\n"
          ]
        }
      ]
    },
    {
      "cell_type": "markdown",
      "source": [
        "2)Write a Python Program to find largest element in an array?"
      ],
      "metadata": {
        "id": "wKdXF7AK5ucb"
      }
    },
    {
      "cell_type": "code",
      "source": [
        "a = [10,20,30,40]\n",
        "max_element = a[0]\n",
        "for i in range(len(a)):\n",
        "  if a[i] > max_element:\n",
        "     max_element = a[i]\n",
        "\n",
        "print (max_element)"
      ],
      "metadata": {
        "colab": {
          "base_uri": "https://localhost:8080/"
        },
        "id": "aHPVSbAW5v7h",
        "outputId": "ebb14356-6ea1-4de8-ba40-a88679e14376"
      },
      "execution_count": null,
      "outputs": [
        {
          "output_type": "stream",
          "name": "stdout",
          "text": [
            "40\n"
          ]
        }
      ]
    },
    {
      "cell_type": "markdown",
      "source": [
        "3)Write a Python Program for array rotation?"
      ],
      "metadata": {
        "id": "CMZrHKAc-lt_"
      }
    },
    {
      "cell_type": "code",
      "source": [
        "def rotateArray(a,d):\n",
        "    n=len(a)\n",
        "    a[:]=a[d:n]+a[0:d]\n",
        "    return a\n",
        "arr = [3,4,5,6,8,9,1]\n",
        "print(\"Rotated list is\")\n",
        "print(rotateArray(arr,2))"
      ],
      "metadata": {
        "colab": {
          "base_uri": "https://localhost:8080/"
        },
        "id": "qGjDbPn1-pJp",
        "outputId": "eebbfea5-99fa-4ed4-b446-3a6faa8c9a89"
      },
      "execution_count": null,
      "outputs": [
        {
          "output_type": "stream",
          "name": "stdout",
          "text": [
            "Rotated list is\n",
            "[5, 6, 8, 9, 1, 3, 4]\n"
          ]
        }
      ]
    },
    {
      "cell_type": "markdown",
      "source": [
        "4)Write a Python Program to Split the array and add the first part to the end?"
      ],
      "metadata": {
        "id": "KvB5z_zM_LNu"
      }
    },
    {
      "cell_type": "code",
      "source": [
        "def SplitArray(arr, n, k):\n",
        "\tfor i in range(0, k):\n",
        "\t\tx = arr[0]\n",
        "\t\tfor j in range(0, n-1):\n",
        "\t\t\tarr[j] = arr[j + 1]\t\t\n",
        "\t\tarr[n-1] = x\t\t\n",
        "arr = [1,2,3,4,5,6]\n",
        "n = len(arr)\n",
        "position = 3\n",
        "SplitArray(arr, n, position)\n",
        "for i in range(0, n):\n",
        "\tprint(arr[i], end = ' ')"
      ],
      "metadata": {
        "colab": {
          "base_uri": "https://localhost:8080/"
        },
        "id": "IWWHKThL_Pan",
        "outputId": "6d6af0c3-8104-4032-f1db-741c13a7b56a"
      },
      "execution_count": null,
      "outputs": [
        {
          "output_type": "stream",
          "name": "stdout",
          "text": [
            "4 5 6 1 2 3 "
          ]
        }
      ]
    },
    {
      "cell_type": "markdown",
      "source": [
        "5)Write a Python Program to check if given array is Monotonic?"
      ],
      "metadata": {
        "id": "Z_cRUSorALbk"
      }
    },
    {
      "cell_type": "code",
      "source": [
        "def ismonotone(a):\n",
        "    n=len(a) #size of array\n",
        "    if n==1:\n",
        "        return True\n",
        "    else:       \n",
        "        if all(a[i]>=a[i+1] for i in range(0,n-1) or a[i]<=a[i+1] for i in range(0,n-1)):\n",
        "            return True\n",
        "        else:\n",
        "            return False\n",
        "A = [6, 5, 4, 2]\n",
        "print(ismonotone(A))"
      ],
      "metadata": {
        "colab": {
          "base_uri": "https://localhost:8080/"
        },
        "id": "NbWKye6aAOd4",
        "outputId": "dccac557-709a-4540-c69a-fc0a7a3b710b"
      },
      "execution_count": null,
      "outputs": [
        {
          "output_type": "stream",
          "name": "stdout",
          "text": [
            "True\n"
          ]
        }
      ]
    },
    {
      "cell_type": "markdown",
      "source": [
        "SECTION F\n",
        "\n",
        "1)Write a Python program to find sum of elements in list?"
      ],
      "metadata": {
        "id": "QhPqWOPoFX4Z"
      }
    },
    {
      "cell_type": "code",
      "source": [
        "def sumlist(list):\n",
        "    sum=0\n",
        "    for i in range(len(list)):\n",
        "        sum = sum+list[i]\n",
        "    return sum\n",
        "list = [20,40,60]\n",
        "print(list)\n",
        "print(\"sum of list: \",sumlist(list))"
      ],
      "metadata": {
        "colab": {
          "base_uri": "https://localhost:8080/"
        },
        "id": "1TKjUZS3FfKv",
        "outputId": "71fc6510-12e7-4aaf-de3a-07e0de19df47"
      },
      "execution_count": null,
      "outputs": [
        {
          "output_type": "stream",
          "name": "stdout",
          "text": [
            "[20, 40, 60]\n",
            "sum of list:  120\n"
          ]
        }
      ]
    },
    {
      "cell_type": "markdown",
      "source": [
        "2)Write a Python program to Multiply all numbers in the list?"
      ],
      "metadata": {
        "id": "wfE8XrGnI02L"
      }
    },
    {
      "cell_type": "code",
      "source": [
        "def mul_list(list) :         \n",
        "    product = 1\n",
        "    for i in list:\n",
        "         product = product * i\n",
        "    return product     \n",
        "list1 = [1,2,3,4]\n",
        "print(list1)\n",
        "print(\"product: \") \n",
        "print(mul_list(list1))"
      ],
      "metadata": {
        "colab": {
          "base_uri": "https://localhost:8080/"
        },
        "id": "-Dlv9-oEI4gI",
        "outputId": "c42b4943-84d2-4032-a0a5-acebc812e558"
      },
      "execution_count": null,
      "outputs": [
        {
          "output_type": "stream",
          "name": "stdout",
          "text": [
            "[1, 2, 3, 4]\n",
            "product: \n",
            "24\n"
          ]
        }
      ]
    },
    {
      "cell_type": "markdown",
      "source": [
        "3,4)Write a Python program to find smallest and largest number in a list?"
      ],
      "metadata": {
        "id": "A4BZZ2QcJQly"
      }
    },
    {
      "cell_type": "code",
      "source": [
        "a=(6,9,8,5,4)\n",
        "print(a)\n",
        "max_number=max(a)\n",
        "print(max_number)\n",
        "min_number=min(a)\n",
        "print(min_number)\n"
      ],
      "metadata": {
        "colab": {
          "base_uri": "https://localhost:8080/"
        },
        "id": "LE7SQzuXJU7X",
        "outputId": "719fa5d7-2817-452e-cf0d-b495ddf7f90e"
      },
      "execution_count": null,
      "outputs": [
        {
          "output_type": "stream",
          "name": "stdout",
          "text": [
            "(6, 9, 8, 5, 4)\n",
            "9\n",
            "4\n"
          ]
        }
      ]
    },
    {
      "cell_type": "markdown",
      "source": [
        "5)Write a Python program to find second largest number in a list?"
      ],
      "metadata": {
        "id": "oORhu1EDLRDs"
      }
    },
    {
      "cell_type": "code",
      "source": [
        "list1 = [90,80,50,30]\n",
        "new_list = set(list1)\n",
        "new_list.remove(max(new_list))\n",
        "print(max(new_list))"
      ],
      "metadata": {
        "colab": {
          "base_uri": "https://localhost:8080/"
        },
        "id": "gj7zf1l8LVNG",
        "outputId": "bf6f8746-13df-4c5c-8711-149705b97097"
      },
      "execution_count": null,
      "outputs": [
        {
          "output_type": "stream",
          "name": "stdout",
          "text": [
            "80\n"
          ]
        }
      ]
    },
    {
      "cell_type": "markdown",
      "source": [
        "6)Write a Python program to find N largest elements from a list?"
      ],
      "metadata": {
        "id": "qTh_-R5lL8h6"
      }
    },
    {
      "cell_type": "code",
      "source": [
        "def LargestFunc(list1, N):\n",
        "\tnew_list = []\n",
        "\tfor i in range(0, N):\n",
        "\t\tmax1 = 0\n",
        "\t\tfor j in range(len(list1)):\n",
        "\t\t\tif list1[j] > max1:\n",
        "\t\t\t\tmax1 = list1[j];\n",
        "\t\tlist1.remove(max1);\n",
        "\t\tnew_list.append(max1)\n",
        "\tprint(\"Largest numbers = \",new_list)\n",
        "my_list = [12, 61, 41, 85, 40, 13, 77, 65, 100]\n",
        "N = 2\n",
        "LargestFunc(my_list, N)"
      ],
      "metadata": {
        "colab": {
          "base_uri": "https://localhost:8080/"
        },
        "id": "5pnhXTVNMUEQ",
        "outputId": "1fdf1bfb-14f6-4362-f0f9-24cdfda4541a"
      },
      "execution_count": null,
      "outputs": [
        {
          "output_type": "stream",
          "name": "stdout",
          "text": [
            "Largest numbers =  [100, 85]\n"
          ]
        }
      ]
    },
    {
      "cell_type": "markdown",
      "source": [
        "7)Write a Python program to print even numbers in a list?"
      ],
      "metadata": {
        "id": "-zKA8Sf0MiPP"
      }
    },
    {
      "cell_type": "code",
      "source": [
        "list1 = [10, 21, 4, 45, 66, 93]\n",
        "for num in list1:\n",
        "    if num % 2 == 0:\n",
        "       print(num, end=\" \")"
      ],
      "metadata": {
        "colab": {
          "base_uri": "https://localhost:8080/"
        },
        "id": "faKY0g18MlJP",
        "outputId": "9f81a8ab-b357-487a-8549-f254462cc07a"
      },
      "execution_count": null,
      "outputs": [
        {
          "output_type": "stream",
          "name": "stdout",
          "text": [
            "10 4 66 "
          ]
        }
      ]
    },
    {
      "cell_type": "markdown",
      "source": [
        "8)Write a Python program to print odd numbers in a List?"
      ],
      "metadata": {
        "id": "SKm5Ka1vM5Jt"
      }
    },
    {
      "cell_type": "code",
      "source": [
        "list1 = [10, 21, 4, 45, 66, 93]\n",
        "for num in list1:\n",
        "    if num % 2 != 0:\n",
        "       print(num, end=\" \")"
      ],
      "metadata": {
        "colab": {
          "base_uri": "https://localhost:8080/"
        },
        "id": "jJuu4vcTM-Ks",
        "outputId": "e7ba8734-85ad-4969-9c3d-502cb84ba2e6"
      },
      "execution_count": null,
      "outputs": [
        {
          "output_type": "stream",
          "name": "stdout",
          "text": [
            "21 45 93 "
          ]
        }
      ]
    },
    {
      "cell_type": "markdown",
      "source": [
        "9)Write a Python program to Remove empty List from List?"
      ],
      "metadata": {
        "id": "uBJjujtdNFfm"
      }
    },
    {
      "cell_type": "code",
      "source": [
        "test_list = [5, 6, [], 3, [], [], 9]\n",
        "print(\"The original list is : \" + str(test_list))\n",
        "while [] in test_list :\n",
        "    test_list.remove([])\n",
        "print(\"List after empty list removal : \" + str(test_list))"
      ],
      "metadata": {
        "colab": {
          "base_uri": "https://localhost:8080/"
        },
        "id": "IEcQOc4tNLZg",
        "outputId": "3a277bd2-c415-40cd-d4b6-c82e55f4e37c"
      },
      "execution_count": null,
      "outputs": [
        {
          "output_type": "stream",
          "name": "stdout",
          "text": [
            "The original list is : [5, 6, [], 3, [], [], 9]\n",
            "List after empty list removal : [5, 6, 3, 9]\n"
          ]
        }
      ]
    },
    {
      "cell_type": "markdown",
      "source": [
        "10)Write a Python program to Cloning or Copying a list?"
      ],
      "metadata": {
        "id": "GMoMe22vOG8W"
      }
    },
    {
      "cell_type": "code",
      "source": [
        "def Cloning(a1):\n",
        "    li_copy = a1[:]\n",
        "    return li_copy\n",
        "a1 = [4, 8, 2, 10, 15, 18]\n",
        "a2 = Cloning(a1)\n",
        "print(\"Original List:\", a1)\n",
        "print(\"After Cloning:\", a2)"
      ],
      "metadata": {
        "colab": {
          "base_uri": "https://localhost:8080/"
        },
        "id": "Sfizr-cGOGLN",
        "outputId": "2f5a2ccd-7eb3-43e3-d41e-b590a516230c"
      },
      "execution_count": null,
      "outputs": [
        {
          "output_type": "stream",
          "name": "stdout",
          "text": [
            "Original List: [4, 8, 2, 10, 15, 18]\n",
            "After Cloning: [4, 8, 2, 10, 15, 18]\n"
          ]
        }
      ]
    },
    {
      "cell_type": "markdown",
      "source": [
        "11)Write a Python program to Count occurrences of an element in a list?"
      ],
      "metadata": {
        "id": "VSOhhhsVOjFL"
      }
    },
    {
      "cell_type": "code",
      "source": [
        "sample_list = [\"2\", \"4\", \"2\", \"8\", \"2\", \"8\"]\n",
        "print(sample_list.count(\"2\"))"
      ],
      "metadata": {
        "colab": {
          "base_uri": "https://localhost:8080/"
        },
        "id": "Xls5O-LFOmHb",
        "outputId": "22375011-8cf7-4c4a-fe45-cdcfd6fc32ae"
      },
      "execution_count": null,
      "outputs": [
        {
          "output_type": "stream",
          "name": "stdout",
          "text": [
            "3\n"
          ]
        }
      ]
    }
  ]
}